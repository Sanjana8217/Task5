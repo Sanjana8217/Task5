import pandas as pd
import numpy as np
import matplotlib.pyplot as plt
import seaborn as sns

df = pd.read_csv("https://raw.githubusercontent.com/datasciencedojo/datasets/master/titanic.csv")
df.head()

print(df.shape)
print(df.info())


print(df.describe(include="all"))


print(df.isnull().sum())


print(df['Survived'].value_counts())
print(df['Sex'].value_counts())
print(df['Pclass'].value_counts())
# Histograms
df['Age'].hist(bins=30, figsize=(8,6))
plt.title("Age Distribution")
plt.show()

# Boxplot
sns.boxplot(x='Pclass', y='Age', data=df)
plt.title("Age distribution across Passenger Classes")
plt.show()
sns.countplot(x='Survived', data=df)
plt.title("Survival Counts")
plt.show()

sns.countplot(x='Sex', data=df, hue='Survived')
plt.title("Survival by Gender")
plt.show()

sns.countplot(x='Pclass', data=df, hue='Survived')
plt.title("Survival by Passenger Class")
plt.show()
# Pairplot
sns.pairplot(df[['Survived','Age','Fare','Pclass']], hue='Survived')
plt.show()

# Heatmap (correlation)
plt.figure(figsize=(8,6))
sns.heatmap(df.corr(), annot=True, cmap="coolwarm")
plt.title("Correlation Heatmap")
plt.show()

# Scatterplot
sns.scatterplot(x='Age', y='Fare', hue='Survived', data=df)
plt.title("Age vs Fare Survival Scatterplot")
plt.show()

